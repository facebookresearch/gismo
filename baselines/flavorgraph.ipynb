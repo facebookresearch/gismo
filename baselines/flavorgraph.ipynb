{
 "cells": [
  {
   "cell_type": "code",
   "execution_count": 8,
   "id": "23c6c1ee",
   "metadata": {},
   "outputs": [],
   "source": [
    "import re\n",
    "import dgl\n",
    "import torch\n",
    "import random\n",
    "import pickle\n",
    "import numpy as np\n",
    "import networkx as nx\n",
    "import dgl.function as fn\n",
    "from torch.utils.data import DataLoader\n",
    "from proposed_model.data_loader import SubsData, load_data\n",
    "# from baselines.naive_baselines import *"
   ]
  },
  {
   "cell_type": "code",
   "execution_count": 11,
   "id": "293712f7",
   "metadata": {},
   "outputs": [
    {
     "name": "stdout",
     "output_type": "stream",
     "text": [
      "#nodes: 8298\n",
      "#ingredient nodes: 6653\n",
      "#compound nodes: 1645\n",
      "Number of datapoints in train 53221\n",
      "Number of datapoints in val 11669\n",
      "Number of datapoints in test 11807\n"
     ]
    },
    {
     "data": {
      "text/plain": [
       "False"
      ]
     },
     "execution_count": 11,
     "metadata": {},
     "output_type": "execute_result"
    }
   ],
   "source": [
    "graph, train_dataset, val_dataset, test_dataset, ingredients, node_count2id, node_id2name, node_id2count = load_data(1, 43, False, dir_ = '/private/home/baharef/inversecooking2.0/data/flavorgraph')\n",
    "\n",
    "train_dataloader = DataLoader(train_dataset, batch_size=1, shuffle=True, sampler=None,\n",
    "                                        batch_sampler=None, num_workers=0, collate_fn=SubsData.collate_fn)\n",
    "val_dataloader = DataLoader(val_dataset, batch_size=1, shuffle=True, sampler=None,\n",
    "                                batch_sampler=None, num_workers=0, collate_fn=SubsData.collate_fn_val_test)\n",
    "test_dataloader = DataLoader(test_dataset, batch_size=1, shuffle=True, sampler=None,\n",
    "                                batch_sampler=None, num_workers=0, collate_fn=SubsData.collate_fn_val_test)\n",
    "nx_g = dgl.to_networkx(graph.cpu(), edge_attrs=['w'])\n",
    "nx_undirected = nx.DiGraph.to_undirected(nx_g)\n",
    "nx.is_connected(nx_undirected)"
   ]
  },
  {
   "cell_type": "code",
   "execution_count": null,
   "id": "fbbd3f77",
   "metadata": {},
   "outputs": [],
   "source": [
    "def load_vocab():\n",
    "    return pickle.load(open('/private/home/baharef/inversecooking2.0/data/substitutions/vocab_ingrs.pkl', 'rb'))\n",
    "vocabs = load_vocab()"
   ]
  },
  {
   "cell_type": "code",
   "execution_count": null,
   "id": "1cd192ca",
   "metadata": {},
   "outputs": [],
   "source": [
    "def node2name(node_count):\n",
    "    return node_id2name[node_count2id[node_count]]\n",
    "print(node2name(7149))"
   ]
  },
  {
   "cell_type": "code",
   "execution_count": null,
   "id": "b1267af1",
   "metadata": {},
   "outputs": [],
   "source": [
    "rank_file = open(\"/private/home/baharef/inversecooking2.0/proposed_model/MLP_CAT2_rankings.txt\", \"r\")\n",
    "\n",
    "ranks = []\n",
    "counter = 0\n",
    "for line in rank_file:\n",
    "    ing1, ing2, rank, ing3 = line.strip().split()\n",
    "    name1 = node2name(int(ing1))\n",
    "    name2 = node2name(int(ing2))\n",
    "    name3 = node2name(int(ing3))\n",
    "    ranks.append(int(rank))\n",
    "    if rank == 1:\n",
    "        print(name1, name2, name3, rank)\n",
    "#         counter += 1\n",
    "    \n",
    "print(np.mean(ranks), np.min(ranks), np.max(ranks))"
   ]
  },
  {
   "cell_type": "code",
   "execution_count": null,
   "id": "549c3ecc",
   "metadata": {},
   "outputs": [],
   "source": [
    "def create_lookup_table_train():\n",
    "    train_table = {}\n",
    "    for batch in train_dataloader:\n",
    "        ing1, ing2 = batch[0][0].cpu().item(), batch[0][1].cpu().item()\n",
    "        if ing1 not in train_table:\n",
    "            train_table[ing1] = []\n",
    "        train_table[ing1].append(ing2)\n",
    "    return train_table"
   ]
  },
  {
   "cell_type": "code",
   "execution_count": null,
   "id": "1a474a02",
   "metadata": {},
   "outputs": [],
   "source": [
    "train_table = create_lookup_table_train()"
   ]
  },
  {
   "cell_type": "code",
   "execution_count": 12,
   "id": "40d7f9b2",
   "metadata": {},
   "outputs": [],
   "source": [
    "lengths = dict(nx.shortest_path_length(nx_g))\n",
    "# lengths = dict(nx.algorithms.shortest_paths.weighted.all_pairs_dijkstra(nx_g,  weight='w'))\n"
   ]
  },
  {
   "cell_type": "code",
   "execution_count": 26,
   "id": "30310aa4",
   "metadata": {},
   "outputs": [],
   "source": [
    "pickle.dump(lengths, open('here.txt', 'wb'))"
   ]
  },
  {
   "cell_type": "code",
   "execution_count": 16,
   "id": "1fe4bafe",
   "metadata": {},
   "outputs": [
    {
     "name": "stdout",
     "output_type": "stream",
     "text": [
      "469717 1.9678593706423229 1 4\n"
     ]
    }
   ],
   "source": [
    "l = []\n",
    "for batch in train_dataloader:\n",
    "    ing1, ing2 = batch[0][0].cpu().item(), batch[0][1].cpu().item()\n",
    "    context = batch[0][2:].cpu().numpy()\n",
    "    context = context[context>0]\n",
    "    for cont in context:\n",
    "        if cont != ing1:\n",
    "            l.append(lengths[ing1][cont])\n",
    "print(len(l), np.mean(l), np.min(l), np.max(l))"
   ]
  },
  {
   "cell_type": "code",
   "execution_count": 27,
   "id": "418479dc",
   "metadata": {},
   "outputs": [
    {
     "name": "stdout",
     "output_type": "stream",
     "text": [
      "1 1.9678593706423229 4\n"
     ]
    },
    {
     "data": {
      "image/png": "[encoded data removed]",
      "text/plain": [
       "<Figure size 432x288 with 1 Axes>"
      ]
     },
     "metadata": {
      "needs_background": "light"
     },
     "output_type": "display_data"
    }
   ],
   "source": [
    "import matplotlib.pyplot as plt\n",
    "plt.hist(l)\n",
    "plt.gca().set(title='Frequency Histogram', ylabel='Frequency')\n",
    "print(np.min(l), np.mean(l), np.max(l))"
   ]
  },
  {
   "cell_type": "code",
   "execution_count": 24,
   "id": "3e386ab9",
   "metadata": {},
   "outputs": [],
   "source": [
    "values = []\n",
    "for i in range(1, 8299):\n",
    "    for j in range(1, 8299):\n",
    "        values.append(lengths[i][j])"
   ]
  },
  {
   "cell_type": "code",
   "execution_count": 25,
   "id": "78503064",
   "metadata": {},
   "outputs": [
    {
     "name": "stdout",
     "output_type": "stream",
     "text": [
      "0 2.9502384397626122 5\n"
     ]
    },
    {
     "data": {
      "image/png": "[encoded data removed]",
      "text/plain": [
       "<Figure size 432x288 with 1 Axes>"
      ]
     },
     "metadata": {
      "needs_background": "light"
     },
     "output_type": "display_data"
    }
   ],
   "source": [
    "plt.hist(values)\n",
    "plt.gca().set(title='Frequency Histogram', ylabel='Frequency')\n",
    "print(np.min(values), np.mean(values), np.max(values))"
   ]
  },
  {
   "cell_type": "code",
   "execution_count": 29,
   "id": "cb8d5562",
   "metadata": {},
   "outputs": [
    {
     "name": "stdout",
     "output_type": "stream",
     "text": [
      "79205\n",
      "294358\n"
     ]
    }
   ],
   "source": [
    "cnt1 = 0\n",
    "for ind in range(len(l)):\n",
    "    if l[ind] == 1:\n",
    "        cnt1 += 1\n",
    "print(cnt1)\n",
    "\n",
    "cnt1 = 0\n",
    "for ind in range(len(values)):\n",
    "    if values[ind] == 1:\n",
    "        cnt1 += 1\n",
    "print(cnt1)"
   ]
  },
  {
   "cell_type": "code",
   "execution_count": null,
   "id": "9be31afa",
   "metadata": {},
   "outputs": [],
   "source": [
    "\n",
    "# counter1 = 0\n",
    "# counter2 = 0\n",
    "\n",
    "# distances_all = []\n",
    "# distances1 = []\n",
    "# distances2 = []\n",
    "# distances3 = []\n",
    "\n",
    "# n_nodes_2 = []\n",
    "\n",
    "all_ = 0\n",
    "counter = 0\n",
    "\n",
    "for batch in test_dataloader:\n",
    "    all_ += 1\n",
    "    ing1, ing2 = batch[0][0].cpu().item(), batch[0][1].cpu().item()\n",
    "    name1 = node_id2name[node_count2id[ing1]]\n",
    "    name2 = node_id2name[node_count2id[ing2]]\n",
    "    \n",
    "#     path = nx.shortest_path(nx_g, ing1, ing2)\n",
    "#     dst = len(path) - 1\n",
    "    dst = lengths[ing1][ing2]\n",
    "    \n",
    "    if dst == 2:\n",
    "        counter += 1\n",
    "#         counter = 0\n",
    "#         all_dst = lengths[ing1]\n",
    "# #         print(all_dst)\n",
    "#         for key in all_dst:\n",
    "#             if all_dst[key] == 2:\n",
    "#                 counter += 1\n",
    "#         n_nodes_2.append(counter)\n",
    "            \n",
    "        \n",
    "#     distances_all.append(dst)\n",
    "#     if ing1 not in train_table:\n",
    "#         counter1 += 1\n",
    "#         distances1.append(dst)\n",
    "#     elif ing2 not in train_table[ing1]:\n",
    "#         counter2 += 1\n",
    "#         distances2.append(dst)\n",
    "#     else:\n",
    "#         distances3.append(dst)\n",
    "\n",
    "print(counter/all_)\n",
    "# print(counter1/all_)\n",
    "# print(counter2/all_)\n",
    "\n",
    "# print(np.mean(distances_all), np.mean(distances1), np.mean(distances2), np.mean(distances3))"
   ]
  },
  {
   "cell_type": "code",
   "execution_count": null,
   "id": "7813b2fb",
   "metadata": {},
   "outputs": [],
   "source": []
  },
  {
   "cell_type": "code",
   "execution_count": null,
   "id": "7efe0a89",
   "metadata": {},
   "outputs": [],
   "source": [
    "len(n_nodes_2)"
   ]
  },
  {
   "cell_type": "code",
   "execution_count": null,
   "id": "1c868e3b",
   "metadata": {},
   "outputs": [],
   "source": [
    "plt.hist(n_nodes_2)\n",
    "plt.gca().set(title='Frequency Histogram', ylabel='Frequency')\n",
    "print(np.min(n_nodes_2), np.mean(n_nodes_2), np.max(n_nodes_2))"
   ]
  },
  {
   "cell_type": "code",
   "execution_count": null,
   "id": "6e98567d",
   "metadata": {},
   "outputs": [],
   "source": [
    "c1 = 0\n",
    "for dst in distances_all:\n",
    "    if dst <= 2:\n",
    "        c1 += 1\n",
    "print(c1/len(distances_all))"
   ]
  },
  {
   "cell_type": "code",
   "execution_count": 2,
   "id": "5cf07d62",
   "metadata": {},
   "outputs": [
    {
     "ename": "NameError",
     "evalue": "name 'node_count2id' is not defined",
     "output_type": "error",
     "traceback": [
      "\u001b[0;31m---------------------------------------------------------------------------\u001b[0m",
      "\u001b[0;31mNameError\u001b[0m                                 Traceback (most recent call last)",
      "\u001b[0;32m<ipython-input-2-60e015e0e323>\u001b[0m in \u001b[0;36m<module>\u001b[0;34m\u001b[0m\n\u001b[1;32m      3\u001b[0m \u001b[0;31m#     ing_names.append(node_id2name[key])\u001b[0m\u001b[0;34m\u001b[0m\u001b[0;34m\u001b[0m\u001b[0;34m\u001b[0m\u001b[0m\n\u001b[1;32m      4\u001b[0m \u001b[0;31m# print(len(ing_names))\u001b[0m\u001b[0;34m\u001b[0m\u001b[0;34m\u001b[0m\u001b[0;34m\u001b[0m\u001b[0m\n\u001b[0;32m----> 5\u001b[0;31m \u001b[0;32mfor\u001b[0m \u001b[0mcnt\u001b[0m \u001b[0;32min\u001b[0m \u001b[0mnode_count2id\u001b[0m\u001b[0;34m:\u001b[0m\u001b[0;34m\u001b[0m\u001b[0;34m\u001b[0m\u001b[0m\n\u001b[0m\u001b[1;32m      6\u001b[0m     \u001b[0ming_names\u001b[0m\u001b[0;34m.\u001b[0m\u001b[0mappend\u001b[0m\u001b[0;34m(\u001b[0m\u001b[0mnode_id2name\u001b[0m\u001b[0;34m[\u001b[0m\u001b[0mnode_count2id\u001b[0m\u001b[0;34m[\u001b[0m\u001b[0mcnt\u001b[0m\u001b[0;34m]\u001b[0m\u001b[0;34m]\u001b[0m\u001b[0;34m)\u001b[0m\u001b[0;34m\u001b[0m\u001b[0;34m\u001b[0m\u001b[0m\n\u001b[1;32m      7\u001b[0m \u001b[0mprint\u001b[0m\u001b[0;34m(\u001b[0m\u001b[0mlen\u001b[0m\u001b[0;34m(\u001b[0m\u001b[0ming_names\u001b[0m\u001b[0;34m)\u001b[0m\u001b[0;34m)\u001b[0m\u001b[0;34m\u001b[0m\u001b[0;34m\u001b[0m\u001b[0m\n",
      "\u001b[0;31mNameError\u001b[0m: name 'node_count2id' is not defined"
     ]
    }
   ],
   "source": [
    "ing_names = []\n",
    "# for key in node_id2name:\n",
    "#     ing_names.append(node_id2name[key])\n",
    "# print(len(ing_names))\n",
    "for cnt in node_count2id:\n",
    "    ing_names.append(node_id2name[node_count2id[cnt]])\n",
    "print(len(ing_names))"
   ]
  },
  {
   "cell_type": "code",
   "execution_count": null,
   "id": "3d030f7e",
   "metadata": {},
   "outputs": [],
   "source": [
    "from utils import load_foodbert, get_bert_emb\n",
    "# tokenizer, bert = load_foodbert()\n",
    "device = torch.device('cuda')\n",
    "ing_embeddings_bert = get_bert_emb(ing_names, device, tokenizer, bert)"
   ]
  },
  {
   "cell_type": "code",
   "execution_count": null,
   "id": "366f5d91",
   "metadata": {},
   "outputs": [],
   "source": [
    "emb_file = open('/private/home/baharef/inversecooking2.0/proposed_model/node2vec/food_bert.txt', 'wb')\n",
    "pickle.dump(ing_embeddings, emb_file)\n"
   ]
  },
  {
   "cell_type": "code",
   "execution_count": null,
   "id": "27b1d63a",
   "metadata": {},
   "outputs": [],
   "source": [
    "print(ing_embeddings.shape)"
   ]
  },
  {
   "cell_type": "code",
   "execution_count": null,
   "id": "c6716c03",
   "metadata": {},
   "outputs": [],
   "source": [
    "all_ = 0\n",
    "counter1 = 0\n",
    "counter2 = 0\n",
    "\n",
    "distances_all = []\n",
    "distances1 = []\n",
    "distances2 = []\n",
    "distances3 = []\n",
    "for batch in test_dataloader:\n",
    "    all_ += 1\n",
    "    ing1, ing2 = batch[0][0].cpu().item(), batch[0][1].cpu().item()\n",
    "    name1 = node_id2name[node_count2id[ing1]]\n",
    "    name2 = node_id2name[node_count2id[ing2]]\n",
    "    name1_ind = ing_names.index(name1)\n",
    "    name2_ind = ing_names.index(name2)\n",
    "    distances_all.append(dst)\n",
    "    if ing1 not in train_table:\n",
    "        counter1 += 1\n",
    "        distances1.append(dst)\n",
    "    elif ing2 not in train_table[ing1]:\n",
    "        counter2 += 1\n",
    "        distances2.append(dst)\n",
    "    else:\n",
    "        distances3.append(dst)\n",
    "    \n",
    "print(counter1/all_)\n",
    "print(counter2/all_)\n",
    "\n",
    "print(np.mean(distances_all), np.mean(distances1), np.mean(distances2), np.mean(distances3))"
   ]
  },
  {
   "cell_type": "code",
   "execution_count": null,
   "id": "81e0578e",
   "metadata": {},
   "outputs": [],
   "source": [
    "import matplotlib.pyplot as plt\n",
    "\n",
    "plt.hist(distances_all, color='blue')\n",
    "plt.gca().set(ylabel='foodbert distance')"
   ]
  },
  {
   "cell_type": "code",
   "execution_count": null,
   "id": "a03a33f7",
   "metadata": {},
   "outputs": [],
   "source": [
    "plt.hist(distances2, color='red')\n",
    "plt.gca().set(ylabel='foodbert distance')"
   ]
  },
  {
   "cell_type": "code",
   "execution_count": null,
   "id": "8c5b89cf",
   "metadata": {},
   "outputs": [],
   "source": [
    "plt.hist(distances1, color='green')\n",
    "plt.gca().set(ylabel='foodbert distance')"
   ]
  },
  {
   "cell_type": "code",
   "execution_count": null,
   "id": "4d238727",
   "metadata": {},
   "outputs": [],
   "source": [
    "import os\n",
    "import copy\n",
    "import numpy as np\n",
    "import torch\n",
    "import torch.nn.functional as F\n",
    "\n",
    "from baselines.gcn.data_loader import SubsData, load_data\n",
    "from baselines.gcn.models import GCN\n",
    "from torch.utils.data import DataLoader\n",
    "from gcn.state_loader import save_model, load_saved_models, create_output_dir"
   ]
  },
  {
   "cell_type": "code",
   "execution_count": null,
   "id": "9d790f91",
   "metadata": {},
   "outputs": [],
   "source": [
    "cfg = {'epochs': 1000, 'task': \"subs\", 'name': \"gcn\", 'lr': 0.005, 'w_decay': 0, 'hidden': 200, 'emb_d': 32, 'dropout': 0.0,\\\n",
    "        'nlayers': 3, 'val_itr': 100, 'nr': 1, 'ntrials': 1, 'train_batch_size': 1000, 'val_test_batch_size': 500, 'margin': 0.7}\n",
    "\n",
    "params = 'lr_' + str(cfg['lr'])\n",
    "params += '_w_decay_' + str(cfg['w_decay'])\n",
    "params += '_hidden_' + str(cfg['hidden'])\n",
    "params += '_emb_d_' + str(cfg['emb_d'])\n",
    "params += '_dropout-' + str(cfg['dropout'])\n",
    "params += '_nlayers_' + str(cfg['nlayers'])\n",
    "params += '_nr_' + str(cfg['nr'])\n",
    "params += '_margin_' + str(cfg['margin'])\n",
    "\n",
    "adj, train_dataset, val_dataset, test_dataset, n_ingrs, _, _, _= load_data(cfg['nr'], dir_ = '/private/home/baharef/inversecooking2.0/data/flavorgraph')\n",
    "device = torch.device('cuda:0' if torch.cuda.is_available() else 'cpu')\n",
    "model = GCN(in_channels=cfg['emb_d'], hidden_channels=cfg['hidden'], num_layers=cfg['nlayers'], dropout=cfg['dropout'], adj=adj, device=device).to(device)\n",
    "opt = torch.optim.Adam(model.parameters(), lr=cfg['lr'], weight_decay=cfg['w_decay'])\n",
    "cos_layer = torch.nn.CosineSimilarity(dim=1, eps=1e-6)\n",
    "base_dir = '/checkpoint/baharef/gcn/aug-16/margin/checkpoints/'\n",
    "output_dir = os.path.join(base_dir, params)\n",
    "model, opt, best_model = load_saved_models(output_dir, model, opt)\n"
   ]
  },
  {
   "cell_type": "code",
   "execution_count": null,
   "id": "2b171715",
   "metadata": {},
   "outputs": [],
   "source": [
    "best_model.eval()\n",
    "best_embeddings = best_model()\n",
    "print(best_embeddings.shape)\n",
    "nx_g = dgl.to_networkx(adj.cpu())\n",
    "nx_undirected = nx.DiGraph.to_undirected(nx_g)\n",
    "nx.is_connected(nx_undirected)"
   ]
  },
  {
   "cell_type": "code",
   "execution_count": null,
   "id": "98bcbd06",
   "metadata": {},
   "outputs": [],
   "source": [
    "sims1_2 = []\n",
    "sims2_3 = []\n",
    "sims1_3 = []\n",
    "for batch in test_dataloader:\n",
    "    all_ += 1\n",
    "    ing1, ing2 = batch[0][0].cpu().item(), batch[0][1].cpu().item()\n",
    "    path = nx.shortest_path(nx_undirected, ing1, ing2)\n",
    "    if len(path) == 3:\n",
    "        emb1 = torch.index_select(best_embeddings, 0, torch.tensor(path[0]).to(device))\n",
    "        emb2 = torch.index_select(best_embeddings, 0, torch.tensor(path[1]).to(device))\n",
    "        emb3 = torch.index_select(best_embeddings, 0, torch.tensor(path[2]).to(device))\n",
    "        sims1_2.append(cos_layer(emb1, emb2))\n",
    "        sims2_3.append(cos_layer(emb2, emb3))\n",
    "        sims1_3.append(cos_layer(emb1, emb3))\n",
    "    "
   ]
  },
  {
   "cell_type": "code",
   "execution_count": null,
   "id": "c2773dcf",
   "metadata": {},
   "outputs": [],
   "source": [
    "print(torch.mean(torch.tensor(sims1_2)), torch.mean(torch.tensor(sims2_3)), torch.mean(torch.tensor(sims1_3)))"
   ]
  },
  {
   "cell_type": "code",
   "execution_count": null,
   "id": "acf39a8f",
   "metadata": {},
   "outputs": [],
   "source": [
    "for i in range(len(sims1_2)):\n",
    "    sims1_2[i] = sims1_2[i].cpu().item()\n",
    "    sims2_3[i] = sims2_3[i].cpu().item()\n",
    "    sims1_3[i] = sims1_3[i].cpu().item()"
   ]
  },
  {
   "cell_type": "code",
   "execution_count": null,
   "id": "cfb80329",
   "metadata": {},
   "outputs": [],
   "source": [
    "plt.hist(sims1_2, bins=30)\n",
    "plt.gca().set(title='cosine similarity 1-2', ylabel='Frequency')\n",
    "plt.show()"
   ]
  },
  {
   "cell_type": "code",
   "execution_count": null,
   "id": "60f7bd45",
   "metadata": {},
   "outputs": [],
   "source": [
    "plt.hist(sims1_3, bins=30)\n",
    "plt.gca().set(title='cosine similarity 1-3', ylabel='Frequency')\n",
    "plt.show()"
   ]
  },
  {
   "cell_type": "code",
   "execution_count": null,
   "id": "e75c18ad",
   "metadata": {},
   "outputs": [],
   "source": [
    "plt.hist(sims2_3, bins=30)\n",
    "plt.gca().set(title='cosine similarity 2-3', ylabel='Frequency')\n",
    "plt.show()"
   ]
  },
  {
   "cell_type": "code",
   "execution_count": null,
   "id": "ab702554",
   "metadata": {},
   "outputs": [],
   "source": [
    "plt.hist(sims1_2, bins=30, color='r')\n",
    "plt.hist(sims2_3, bins=30, color='b')\n",
    "plt.hist(sims1_3, bins=30, color='g')\n",
    "plt.gca().set(title='cosine similarities', ylabel='Frequency')\n",
    "plt.show()"
   ]
  },
  {
   "cell_type": "code",
   "execution_count": null,
   "id": "e7ab4829",
   "metadata": {},
   "outputs": [],
   "source": [
    "all_ = 0\n",
    "counter1 = 0\n",
    "counter2 = 0\n",
    "counter3 = 0\n",
    "\n",
    "train_table = create_lookup_table_train()\n",
    "for batch in test_dataloader:\n",
    "    all_ += 1\n",
    "    ing1, ing2 = batch[0][0].cpu().item(), batch[0][1].cpu().item()\n",
    "\n",
    "    if ing1 not in train_table:\n",
    "        counter1 += 1\n",
    "    elif ing2 not in train_table[ing1]:\n",
    "        counter2 += 1\n",
    "    else:\n",
    "        counter3 += 1\n",
    "\n",
    "print(counter_ing, counter_compound)\n",
    "\n",
    "print(counter1/all_)\n",
    "print(counter2/all_)\n",
    "print(counter3/all_)\n"
   ]
  },
  {
   "cell_type": "code",
   "execution_count": null,
   "id": "63eeb0b7",
   "metadata": {},
   "outputs": [],
   "source": [
    "ranks = open('/private/home/baharef/inversecooking2.0/baselines/ranks.txt', 'r')\n",
    "\n",
    "ranks1, ranks2, ranks3, ranks_all = [], [], [], []\n",
    "for line in ranks:\n",
    "#     print(line.strip())\n",
    "    \n",
    "    ing1, ing2, rank = re.split(',|:', line.strip())\n",
    "    ing1, ing2, rank = int(ing1), int(ing2), int(rank)\n",
    "    \n",
    "    ranks_all.append(rank)\n",
    "    if ing1 not in train_table:\n",
    "        ranks1.append(rank)\n",
    "    elif ing2 not in train_table[ing1]:\n",
    "        ranks2.append(rank)\n",
    "    else:\n",
    "        ranks3.append(rank)\n",
    "        \n",
    "print(len(ranks_all), len(ranks1), len(ranks2), len(ranks3))\n",
    "\n",
    "compute_metrics(ranks_all)\n",
    "compute_metrics(ranks1)\n",
    "compute_metrics(ranks2)\n",
    "compute_metrics(ranks3)"
   ]
  },
  {
   "cell_type": "code",
   "execution_count": null,
   "id": "b1d9ce86",
   "metadata": {},
   "outputs": [],
   "source": [
    "ranks = open('/private/home/baharef/inversecooking2.0/baselines/gcn/ranks.txt', 'r')\n",
    "\n",
    "ranks1, ranks2, ranks3, ranks_all = [], [], [], []\n",
    "for line in ranks:\n",
    "#     print(line.strip())\n",
    "    \n",
    "    ing1, ing2, rank = re.split(',|:', line.strip())\n",
    "    ing1, ing2, rank = int(ing1), int(ing2), int(rank)\n",
    "    \n",
    "    ranks_all.append(rank)\n",
    "    if ing1 not in train_table:\n",
    "        ranks1.append(rank)\n",
    "    elif ing2 not in train_table[ing1]:\n",
    "        ranks2.append(rank)\n",
    "    else:\n",
    "        ranks3.append(rank)\n",
    "        \n",
    "print(len(ranks_all), len(ranks1), len(ranks2), len(ranks3))\n",
    "\n",
    "compute_metrics(ranks_all)\n",
    "compute_metrics(ranks1)\n",
    "compute_metrics(ranks2)\n",
    "compute_metrics(ranks3)"
   ]
  },
  {
   "cell_type": "code",
   "execution_count": null,
   "id": "debf5206",
   "metadata": {},
   "outputs": [],
   "source": [
    "def compute_metrics(ranks):\n",
    "    mrr, hit1, hit3, hit10 = 0.0, 0.0, 0.0, 0.0\n",
    "    \n",
    "    for rank in ranks:\n",
    "        mrr += (1/rank)\n",
    "        if rank <= 1:\n",
    "            hit1 += 1.0\n",
    "        if rank <=3 :\n",
    "            hit3 += 1.0\n",
    "        if rank <= 10:\n",
    "            hit10 += 1.0\n",
    "    print(mrr/len(ranks)*100, hit1/len(ranks)*100, hit3/len(ranks)*100, hit10/len(ranks)*100)\n",
    "    \n",
    "def create_lookup_table_ingredient_frequency():\n",
    "    train_table = {}\n",
    "    for batch in train_dataloader:\n",
    "        ing1, ing2 = batch[0][0].cpu().item(), batch[0][1].cpu().item()\n",
    "        if ing1 not in train_table:\n",
    "            train_table[ing1] = {}\n",
    "        if ing2 not in train_table[ing1]:\n",
    "            train_table[ing1][ing2] = 0\n",
    "        train_table[ing1][ing2] += 1\n",
    "        \n",
    "    for ing in train_table:\n",
    "        sorted_list = list(\n",
    "            dict(\n",
    "                sorted(\n",
    "                    train_table[ing].items(),\n",
    "                    key=lambda kv: (kv[1], kv[0]),\n",
    "                    reverse=True,\n",
    "                )\n",
    "            ).keys()\n",
    "        )\n",
    "        train_table[ing] = sorted_list\n",
    "\n",
    "    return train_table\n",
    "\n",
    "def test_lookup_table_frequency(all_ids):\n",
    "    lookup_table = create_lookup_table_ingredient_frequency()\n",
    "    ranks_file = open('/private/home/baharef/inversecooking2.0/baselines/ranks.txt', 'w')\n",
    "    for batch in test_dataloader:\n",
    "        ing1, ing2 = batch[0][0].cpu().item(), batch[0][1].cpu().item()\n",
    "        subs = []\n",
    "#         ing1, ing2 = example\n",
    "        if ing1 in lookup_table:\n",
    "            subs = list(lookup_table[ing1])\n",
    "        rest_ids = all_ids.copy()\n",
    "        for id in subs:\n",
    "            if id in rest_ids:\n",
    "                rest_ids.remove(id)\n",
    "            else:\n",
    "                print(id, 'not in list')\n",
    "        \n",
    "        if ing1 in rest_ids:\n",
    "            rest_ids.remove(ing1)\n",
    "        else:\n",
    "            print(ing1, \"is missing\")\n",
    "        random.shuffle(rest_ids)\n",
    "        all_subs = subs + rest_ids\n",
    "        rank = all_subs.index(ing2) + 1\n",
    "\n",
    "        ranks_file.write(str(ing1) + ',' + str(ing2) + ':' + str(rank) + '\\n')\n",
    "   \n"
   ]
  },
  {
   "cell_type": "code",
   "execution_count": null,
   "id": "3806b0be",
   "metadata": {},
   "outputs": [],
   "source": [
    "test_lookup_table_frequency(ingredients)"
   ]
  },
  {
   "cell_type": "code",
   "execution_count": null,
   "id": "dec5ca90",
   "metadata": {},
   "outputs": [],
   "source": [
    "import csv\n",
    "from inv_cooking.datasets.vocabulary import Vocabulary\n",
    "import json\n",
    "import os\n",
    "import pickle\n",
    "import random\n",
    "import numpy as np\n",
    "import dgl\n",
    "import dgl.function as fn\n",
    "import dgl.ops as ops\n",
    "import torch\n",
    "import torch.utils.data as data\n",
    "\n",
    "\n",
    "def load_nodes(dir_):\n",
    "    node_id2name = {}\n",
    "    node_name2id = {}\n",
    "    node_id2type = {}\n",
    "    ingredients_cnt = []\n",
    "    compounds_cnt = []\n",
    "    node_id2count = {}\n",
    "    node_count2id = {}\n",
    "    counter = 0 #start with 1 to reserve 0 for padding\n",
    "    with open(os.path.join(dir_, \"nodes_191120.csv\"), \"r\") as nodes_file:\n",
    "        csv_reader = csv.DictReader(nodes_file)\n",
    "        for row in csv_reader:\n",
    "            node_id = int(row[\"node_id\"])\n",
    "            node_type = row[\"node_type\"]\n",
    "            node_id2name[node_id] = row[\"name\"]\n",
    "            node_name2id[row[\"name\"]] = node_id\n",
    "            node_id2type[node_id] = node_type\n",
    "            if \"ingredient\" in node_type:\n",
    "                ingredients_cnt.append(counter)\n",
    "            else:\n",
    "                compounds_cnt.append(counter)\n",
    "            node_id2count[node_id] = counter\n",
    "            node_count2id[counter] = node_id\n",
    "            counter += 1\n",
    "    nnodes = len(node_id2name)\n",
    "    print(\"#nodes:\", nnodes)\n",
    "    print(\"#ingredient nodes:\", len(ingredients_cnt))\n",
    "    print(\"#compound nodes:\", len(compounds_cnt))\n",
    "    return (\n",
    "        node_id2count,\n",
    "        node_count2id,\n",
    "        node_id2name,\n",
    "        node_name2id,\n",
    "        ingredients_cnt,\n",
    "        node_id2name,\n",
    "        nnodes,\n",
    "    )\n",
    "\n",
    "def load_edges(\n",
    "    dir_, node_id2count, node_count2id, node_id2name, nnodes, normalize=True\n",
    "):\n",
    "    sources, destinations, weights, types = [], [], [], []\n",
    "    adj = np.zeros((8298, 8298))\n",
    "    with open(os.path.join(dir_, \"edges_191120.csv\"), \"r\") as edges_file:\n",
    "        csv_reader = csv.DictReader(edges_file)\n",
    "        line_count = 0\n",
    "        for row in csv_reader:\n",
    "            if line_count == 0:\n",
    "                # print(f'Column names are {\", \".join(row)}')\n",
    "                line_count += 1\n",
    "            node1, node2 = int(row[\"id_1\"]), int(row[\"id_2\"])\n",
    "            node1_cnt, node2_cnt = node_id2count[node1], node_id2count[node2]\n",
    "\n",
    "            edge_type = row[\"edge_type\"]\n",
    "            if \"ingr-ingr\" in row[\"edge_type\"]:\n",
    "                edge_type = 1\n",
    "                score = float(row[\"score\"])\n",
    "            elif \"ingr-fcomp\" in row[\"edge_type\"]:\n",
    "                edge_type = 2\n",
    "                score = 1\n",
    "            elif \"ingr-dcomp\" in row[\"edge_type\"]:\n",
    "                edge_type = 3\n",
    "                score = 1\n",
    "            sources.append(node1_cnt)\n",
    "            destinations.append(node2_cnt)\n",
    "            weights.append(score)\n",
    "            types.append(edge_type)\n",
    "\n",
    "            # make it symmetric\n",
    "            sources.append(node2_cnt)\n",
    "            destinations.append(node1_cnt)\n",
    "            weights.append(score)\n",
    "            types.append(edge_type)\n",
    "            \n",
    "            adj[node1_cnt, node2_cnt] = score\n",
    "            adj[node2_cnt, node1_cnt] = score\n",
    "    # add self-loop\n",
    "    for node in range(nnodes):\n",
    "        sources.append(node)\n",
    "        destinations.append(node)\n",
    "        weights.append(1)\n",
    "        types.append(4)\n",
    "        adj[node, node] = 1\n",
    "\n",
    "    sources = torch.tensor(sources)\n",
    "    destinations = torch.tensor(destinations)\n",
    "    weights = torch.tensor(weights)\n",
    "    types = torch.tensor(types)\n",
    "\n",
    "    device = torch.device(\"cuda:0\" if torch.cuda.is_available() else \"cpu\")\n",
    "\n",
    "    if torch.cuda.is_available():\n",
    "        sources = sources.to(device)\n",
    "        destinations = destinations.to(device)\n",
    "        weights = weights.to(device)\n",
    "        types = types.to(device)\n",
    "\n",
    "    graph = dgl.graph((sources, destinations))\n",
    "    graph.edata[\"w\"] = weights\n",
    "    graph.edata[\"t\"] = types\n",
    "\n",
    "    # symmetric normalization\n",
    "    if normalize:\n",
    "        in_degree = ops.copy_e_sum(graph, graph.edata[\"w\"])\n",
    "        in_norm = torch.pow(in_degree, -0.5)\n",
    "        out_norm = torch.pow(in_degree, -0.5).unsqueeze(-1)\n",
    "        graph.ndata[\"in_norm\"] = in_norm\n",
    "        graph.ndata[\"out_norm\"] = out_norm\n",
    "        graph.apply_edges(fn.u_mul_v(\"in_norm\", \"out_norm\", \"n\"))\n",
    "        graph.edata[\"w\"] = graph.edata[\"w\"] * graph.edata[\"n\"].squeeze()\n",
    "\n",
    "    return graph, adj"
   ]
  },
  {
   "cell_type": "code",
   "execution_count": null,
   "id": "4a0996d7",
   "metadata": {},
   "outputs": [],
   "source": [
    "dir_ = \"/private/home/baharef/inversecooking2.0/data/flavorgraph\"\n",
    "node_id2count, node_count2id, node_id2name, node_name2id, ingredients_cnt, node_id2name, nnodes = load_nodes(dir_)\n",
    "graph, adj = load_edges(dir_, node_id2count, node_count2id, node_id2name, nnodes)"
   ]
  },
  {
   "cell_type": "code",
   "execution_count": null,
   "id": "ce6c1649",
   "metadata": {},
   "outputs": [],
   "source": [
    "adj = torch.tensor(adj)\n",
    "inv_sqrt_degree = 1. / (torch.sqrt(adj.sum(dim=1, keepdim=False)))\n",
    "adj_ = inv_sqrt_degree[:, None] * adj * inv_sqrt_degree[None, :]"
   ]
  },
  {
   "cell_type": "code",
   "execution_count": null,
   "id": "7850cfa5",
   "metadata": {},
   "outputs": [],
   "source": [
    "np.sum(adj_.numpy())"
   ]
  },
  {
   "cell_type": "code",
   "execution_count": null,
   "id": "e9a83133",
   "metadata": {},
   "outputs": [],
   "source": [
    "np.sum(graph.edata[\"w\"].cpu().numpy())"
   ]
  },
  {
   "cell_type": "code",
   "execution_count": null,
   "id": "c80079d2",
   "metadata": {},
   "outputs": [],
   "source": [
    "ws = []\n",
    "ws_self = []\n",
    "for i in range(adj.shape[0]):\n",
    "    for j in range(adj.shape[1]):\n",
    "        if adj[i, j] != 0:\n",
    "            if i == j:\n",
    "                ws_self.append(adj_[i, j])\n",
    "            else:\n",
    "                ws.append(adj_[i, j])"
   ]
  },
  {
   "cell_type": "code",
   "execution_count": null,
   "id": "085228ca",
   "metadata": {},
   "outputs": [],
   "source": [
    "plt.hist(ws_self)\n",
    "# # plt.hist(ws, color='blue')\n",
    "plt.gca().set(title='Frequency Histogram', ylabel='Frequency')\n",
    "print(np.min(ws), np.mean(ws), np.max(ws))\n",
    "print(np.min(ws_self), np.mean(ws_self), np.max(ws_self))"
   ]
  },
  {
   "cell_type": "code",
   "execution_count": null,
   "id": "a08026dc",
   "metadata": {},
   "outputs": [],
   "source": [
    "len(ws), len(ws_self)"
   ]
  },
  {
   "cell_type": "code",
   "execution_count": null,
   "id": "64750fef",
   "metadata": {},
   "outputs": [],
   "source": [
    "plt.hist(ws_self, color='red')\n",
    "# plt.hist(ws, color='blue')\n",
    "plt.gca().set(title='Self-loop edge weights', ylabel='Frequency')\n",
    "# plt.hist(ws)\n",
    "plt.show()"
   ]
  },
  {
   "cell_type": "code",
   "execution_count": null,
   "id": "45e7c011",
   "metadata": {},
   "outputs": [],
   "source": [
    "plt.hist(ws, color='blue')\n",
    "plt.gca().set(title='Non self-loop edge weights', ylabel='Frequency')\n",
    "plt.show()"
   ]
  },
  {
   "cell_type": "code",
   "execution_count": null,
   "id": "425d64bd",
   "metadata": {},
   "outputs": [],
   "source": [
    "plt.hist(ws, color='blue')\n",
    "plt.hist(ws_self, color='red')\n",
    "plt.gca().set(title='Frequency Histogram', ylabel='Frequency')\n",
    "plt.show()"
   ]
  },
  {
   "cell_type": "code",
   "execution_count": null,
   "id": "6db27413",
   "metadata": {},
   "outputs": [],
   "source": [
    "json.dump(ws.numpy(), open('ws.txt', 'w'))\n",
    "json.dump(ws_self.numpy(), open('ws_self.txt', 'w'))"
   ]
  },
  {
   "cell_type": "code",
   "execution_count": null,
   "id": "75554a76",
   "metadata": {},
   "outputs": [],
   "source": [
    "# for ind in range(len(ws)):\n",
    "#     ws[ind] = ws[ind].item()\n",
    "for ind in range(len(ws_self)):\n",
    "    ws_self[ind] = ws_self[ind].item()"
   ]
  },
  {
   "cell_type": "code",
   "execution_count": null,
   "id": "d3681122",
   "metadata": {},
   "outputs": [],
   "source": []
  }
 ],
 "metadata": {
  "kernelspec": {
   "display_name": "Python 3",
   "language": "python",
   "name": "python3"
  },
  "language_info": {
   "codemirror_mode": {
    "name": "ipython",
    "version": 3
   },
   "file_extension": ".py",
   "mimetype": "text/x-python",
   "name": "python",
   "nbconvert_exporter": "python",
   "pygments_lexer": "ipython3",
   "version": "3.8.5"
  }
 },
 "nbformat": 4,
 "nbformat_minor": 5
}
